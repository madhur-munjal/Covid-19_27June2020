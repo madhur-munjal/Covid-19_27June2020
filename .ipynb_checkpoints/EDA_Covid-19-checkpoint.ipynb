{
 "cells": [
  {
   "cell_type": "markdown",
   "metadata": {},
   "source": [
    "## 1) Recovered & Active Cases from worldometers.info"
   ]
  },
  {
   "cell_type": "code",
   "execution_count": 1,
   "metadata": {},
   "outputs": [
    {
     "name": "stdout",
     "output_type": "stream",
     "text": [
      "Coronavirus Update (Live): 9,979,992 Cases and 498,598 Deaths from COVID-19 Virus Pandemic - Worldometer\n"
     ]
    }
   ],
   "source": [
    "import bs4 as bs\n",
    "from urllib import request\n",
    "import pandas as pd\n",
    "import matplotlib.pyplot as plt\n",
    "import requests\n",
    "\n",
    "page = requests.get('https://www.worldometers.info/coronavirus/')\n",
    "\n",
    "soup = bs.BeautifulSoup(page.text, 'html.parser')\n",
    "print(soup.title.text)\n",
    "# print(soup.find_all('p'))\n",
    "\n",
    "htmltable = soup.find_all('table', { 'id' : 'main_table_countries_today' })\n",
    "# htmltable\n",
    "# df = pd.read_html(str(htmltable))[0]"
   ]
  },
  {
   "cell_type": "code",
   "execution_count": 2,
   "metadata": {},
   "outputs": [
    {
     "data": {
      "text/html": [
       "<div>\n",
       "<style scoped>\n",
       "    .dataframe tbody tr th:only-of-type {\n",
       "        vertical-align: middle;\n",
       "    }\n",
       "\n",
       "    .dataframe tbody tr th {\n",
       "        vertical-align: top;\n",
       "    }\n",
       "\n",
       "    .dataframe thead th {\n",
       "        text-align: right;\n",
       "    }\n",
       "</style>\n",
       "<table border=\"1\" class=\"dataframe\">\n",
       "  <thead>\n",
       "    <tr style=\"text-align: right;\">\n",
       "      <th></th>\n",
       "      <th>index</th>\n",
       "      <th>SNO</th>\n",
       "      <th>Country,Other</th>\n",
       "      <th>TotalCases</th>\n",
       "      <th>NewCases</th>\n",
       "      <th>TotalDeaths</th>\n",
       "      <th>NewDeaths</th>\n",
       "      <th>TotalRecovered</th>\n",
       "      <th>NewRecovered</th>\n",
       "      <th>ActiveCases</th>\n",
       "      <th>Serious,Critical</th>\n",
       "      <th>Tot Cases/1M pop</th>\n",
       "      <th>Deaths/1M pop</th>\n",
       "      <th>Total Tests</th>\n",
       "      <th>Tests/1M pop</th>\n",
       "      <th>Population</th>\n",
       "      <th>Continent</th>\n",
       "      <th>17</th>\n",
       "      <th>18</th>\n",
       "      <th>19</th>\n",
       "      <th>20</th>\n",
       "      <th>21</th>\n",
       "    </tr>\n",
       "  </thead>\n",
       "  <tbody>\n",
       "    <tr>\n",
       "      <th>0</th>\n",
       "      <td></td>\n",
       "      <td>1</td>\n",
       "      <td>USA</td>\n",
       "      <td>2,569,139</td>\n",
       "      <td>+16,183</td>\n",
       "      <td>127,774</td>\n",
       "      <td>+134</td>\n",
       "      <td>1,068,949</td>\n",
       "      <td>+246</td>\n",
       "      <td>1,372,416</td>\n",
       "      <td>15,765</td>\n",
       "      <td>7,762</td>\n",
       "      <td>386</td>\n",
       "      <td>31,468,569</td>\n",
       "      <td>95,077</td>\n",
       "      <td>330,981,104</td>\n",
       "      <td>North America</td>\n",
       "      <td>1292,59011</td>\n",
       "      <td></td>\n",
       "      <td>None</td>\n",
       "      <td>None</td>\n",
       "      <td>None</td>\n",
       "    </tr>\n",
       "    <tr>\n",
       "      <th>1</th>\n",
       "      <td></td>\n",
       "      <td>2</td>\n",
       "      <td>Brazil</td>\n",
       "      <td>1,280,335</td>\n",
       "      <td>+281</td>\n",
       "      <td>56,121</td>\n",
       "      <td>+12</td>\n",
       "      <td>697,526</td>\n",
       "      <td></td>\n",
       "      <td>526,688</td>\n",
       "      <td>8,318</td>\n",
       "      <td>6,024</td>\n",
       "      <td>264</td>\n",
       "      <td>2,925,935</td>\n",
       "      <td>13,766</td>\n",
       "      <td>212,541,690</td>\n",
       "      <td>South America</td>\n",
       "      <td>1663,78773</td>\n",
       "      <td></td>\n",
       "      <td>None</td>\n",
       "      <td>None</td>\n",
       "      <td>None</td>\n",
       "    </tr>\n",
       "    <tr>\n",
       "      <th>2</th>\n",
       "      <td></td>\n",
       "      <td>3</td>\n",
       "      <td>Russia</td>\n",
       "      <td>627,646</td>\n",
       "      <td>+6,852</td>\n",
       "      <td>8,969</td>\n",
       "      <td>+188</td>\n",
       "      <td>393,352</td>\n",
       "      <td>+9,200</td>\n",
       "      <td>225,325</td>\n",
       "      <td>2,300</td>\n",
       "      <td>4,301</td>\n",
       "      <td>61</td>\n",
       "      <td>18,707,946</td>\n",
       "      <td>128,195</td>\n",
       "      <td>145,933,938</td>\n",
       "      <td>Europe</td>\n",
       "      <td>23316,2718</td>\n",
       "      <td></td>\n",
       "      <td>None</td>\n",
       "      <td>None</td>\n",
       "      <td>None</td>\n",
       "    </tr>\n",
       "    <tr>\n",
       "      <th>3</th>\n",
       "      <td></td>\n",
       "      <td>4</td>\n",
       "      <td>India</td>\n",
       "      <td>526,113</td>\n",
       "      <td>+16,667</td>\n",
       "      <td>16,059</td>\n",
       "      <td>+370</td>\n",
       "      <td>308,123</td>\n",
       "      <td>+12,206</td>\n",
       "      <td>201,931</td>\n",
       "      <td>8,944</td>\n",
       "      <td>381</td>\n",
       "      <td>12</td>\n",
       "      <td>7,996,707</td>\n",
       "      <td>5,795</td>\n",
       "      <td>1,379,826,344</td>\n",
       "      <td>Asia</td>\n",
       "      <td>2,62385,922173</td>\n",
       "      <td></td>\n",
       "      <td>None</td>\n",
       "      <td>None</td>\n",
       "      <td>None</td>\n",
       "    </tr>\n",
       "    <tr>\n",
       "      <th>4</th>\n",
       "      <td></td>\n",
       "      <td>5</td>\n",
       "      <td>UK</td>\n",
       "      <td>310,250</td>\n",
       "      <td>+890</td>\n",
       "      <td>43,514</td>\n",
       "      <td>+100</td>\n",
       "      <td>N/A</td>\n",
       "      <td>N/A</td>\n",
       "      <td>N/A</td>\n",
       "      <td>311</td>\n",
       "      <td>4,570</td>\n",
       "      <td>641</td>\n",
       "      <td>9,067,577</td>\n",
       "      <td>133,578</td>\n",
       "      <td>67,882,162</td>\n",
       "      <td>Europe</td>\n",
       "      <td>2191,5607</td>\n",
       "      <td></td>\n",
       "      <td>None</td>\n",
       "      <td>None</td>\n",
       "      <td>None</td>\n",
       "    </tr>\n",
       "  </tbody>\n",
       "</table>\n",
       "</div>"
      ],
      "text/plain": [
       "  index SNO Country,Other TotalCases NewCases TotalDeaths NewDeaths  \\\n",
       "0         1           USA  2,569,139  +16,183    127,774       +134   \n",
       "1         2        Brazil  1,280,335     +281     56,121        +12   \n",
       "2         3        Russia    627,646   +6,852      8,969       +188   \n",
       "3         4         India    526,113  +16,667     16,059       +370   \n",
       "4         5            UK    310,250     +890     43,514       +100   \n",
       "\n",
       "  TotalRecovered NewRecovered ActiveCases Serious,Critical Tot Cases/1M pop  \\\n",
       "0      1,068,949         +246   1,372,416           15,765            7,762   \n",
       "1        697,526                  526,688            8,318            6,024   \n",
       "2        393,352       +9,200     225,325            2,300            4,301   \n",
       "3        308,123      +12,206     201,931            8,944              381   \n",
       "4            N/A          N/A         N/A              311            4,570   \n",
       "\n",
       "  Deaths/1M pop Total Tests Tests/1M pop      Population      Continent  \\\n",
       "0           386  31,468,569       95,077    330,981,104   North America   \n",
       "1           264   2,925,935       13,766    212,541,690   South America   \n",
       "2            61  18,707,946      128,195    145,933,938          Europe   \n",
       "3            12   7,996,707        5,795  1,379,826,344            Asia   \n",
       "4           641   9,067,577      133,578     67,882,162          Europe   \n",
       "\n",
       "               17 18    19    20    21  \n",
       "0      1292,59011     None  None  None  \n",
       "1      1663,78773     None  None  None  \n",
       "2      23316,2718     None  None  None  \n",
       "3  2,62385,922173     None  None  None  \n",
       "4       2191,5607     None  None  None  "
      ]
     },
     "execution_count": 2,
     "metadata": {},
     "output_type": "execute_result"
    }
   ],
   "source": [
    "import pandas as pd\n",
    "l=[]\n",
    "c=1\n",
    "\n",
    "column = ['index','SNO','Country,Other','TotalCases','NewCases','TotalDeaths','NewDeaths','TotalRecovered','NewRecovered','ActiveCases','Serious,Critical','Tot Cases/1M pop','Deaths/1M pop','Total Tests','Tests/1M pop','Population','Continent','17','18','19','20','21']\n",
    "#           TotalTests','Tests/1M pop','Population',\n",
    "#           '1 Case every X ppl','1 Death every X ppl','1 Test every X ppl']\n",
    "\n",
    "df = pd.DataFrame(columns = column)\n",
    "\n",
    "for i in htmltable[0].find_all('tr'):\n",
    "    if c<10:\n",
    "        pass\n",
    "    else:\n",
    "#        \n",
    "        l.append(i.text)\n",
    "#         print(i.text)\n",
    "    c=c+1\n",
    "nl = []\n",
    "for j in l:\n",
    "    j.split('\\n')\n",
    "    nl.append(j.split('\\n'))\n",
    "nl\n",
    "pd.set_option('display.max_columns',None)\n",
    "df = pd.DataFrame(nl, columns = column)\n",
    "df.head()\n",
    "#     l.append(i.text)\n",
    "#     for j in i.find_all('td',{\"class\":\"mt_a\"}):\n",
    "#         print(j)"
   ]
  },
  {
   "cell_type": "code",
   "execution_count": 3,
   "metadata": {},
   "outputs": [
    {
     "data": {
      "text/html": [
       "<div>\n",
       "<style scoped>\n",
       "    .dataframe tbody tr th:only-of-type {\n",
       "        vertical-align: middle;\n",
       "    }\n",
       "\n",
       "    .dataframe tbody tr th {\n",
       "        vertical-align: top;\n",
       "    }\n",
       "\n",
       "    .dataframe thead th {\n",
       "        text-align: right;\n",
       "    }\n",
       "</style>\n",
       "<table border=\"1\" class=\"dataframe\">\n",
       "  <thead>\n",
       "    <tr style=\"text-align: right;\">\n",
       "      <th></th>\n",
       "      <th>Country,Other</th>\n",
       "      <th>TotalCases</th>\n",
       "      <th>NewCases</th>\n",
       "      <th>TotalDeaths</th>\n",
       "      <th>NewDeaths</th>\n",
       "      <th>TotalRecovered</th>\n",
       "      <th>NewRecovered</th>\n",
       "      <th>ActiveCases</th>\n",
       "      <th>Serious,Critical</th>\n",
       "      <th>Tot Cases/1M pop</th>\n",
       "      <th>Deaths/1M pop</th>\n",
       "      <th>Total Tests</th>\n",
       "      <th>Tests/1M pop</th>\n",
       "      <th>Population</th>\n",
       "    </tr>\n",
       "  </thead>\n",
       "  <tbody>\n",
       "    <tr>\n",
       "      <th>0</th>\n",
       "      <td>USA</td>\n",
       "      <td>2,569,139</td>\n",
       "      <td>+16,183</td>\n",
       "      <td>127,774</td>\n",
       "      <td>+134</td>\n",
       "      <td>1,068,949</td>\n",
       "      <td>+246</td>\n",
       "      <td>1,372,416</td>\n",
       "      <td>15,765</td>\n",
       "      <td>7,762</td>\n",
       "      <td>386</td>\n",
       "      <td>31,468,569</td>\n",
       "      <td>95,077</td>\n",
       "      <td>330,981,104</td>\n",
       "    </tr>\n",
       "    <tr>\n",
       "      <th>1</th>\n",
       "      <td>Brazil</td>\n",
       "      <td>1,280,335</td>\n",
       "      <td>+281</td>\n",
       "      <td>56,121</td>\n",
       "      <td>+12</td>\n",
       "      <td>697,526</td>\n",
       "      <td></td>\n",
       "      <td>526,688</td>\n",
       "      <td>8,318</td>\n",
       "      <td>6,024</td>\n",
       "      <td>264</td>\n",
       "      <td>2,925,935</td>\n",
       "      <td>13,766</td>\n",
       "      <td>212,541,690</td>\n",
       "    </tr>\n",
       "  </tbody>\n",
       "</table>\n",
       "</div>"
      ],
      "text/plain": [
       "  Country,Other TotalCases NewCases TotalDeaths NewDeaths TotalRecovered  \\\n",
       "0           USA  2,569,139  +16,183    127,774       +134      1,068,949   \n",
       "1        Brazil  1,280,335     +281     56,121        +12        697,526   \n",
       "\n",
       "  NewRecovered ActiveCases Serious,Critical Tot Cases/1M pop Deaths/1M pop  \\\n",
       "0         +246   1,372,416           15,765            7,762           386   \n",
       "1                  526,688            8,318            6,024           264   \n",
       "\n",
       "  Total Tests Tests/1M pop    Population  \n",
       "0  31,468,569       95,077  330,981,104   \n",
       "1   2,925,935       13,766  212,541,690   "
      ]
     },
     "execution_count": 3,
     "metadata": {},
     "output_type": "execute_result"
    }
   ],
   "source": [
    "# df = df.iloc[1:19,1:]\n",
    "df = df.iloc[:215,2:16]\n",
    "df.head(2)"
   ]
  },
  {
   "cell_type": "code",
   "execution_count": 4,
   "metadata": {},
   "outputs": [
    {
     "data": {
      "text/plain": [
       "Country,Other       object\n",
       "TotalCases          object\n",
       "NewCases            object\n",
       "TotalDeaths         object\n",
       "NewDeaths           object\n",
       "TotalRecovered      object\n",
       "NewRecovered        object\n",
       "ActiveCases         object\n",
       "Serious,Critical    object\n",
       "Tot Cases/1M pop    object\n",
       "Deaths/1M pop       object\n",
       "Total Tests         object\n",
       "Tests/1M pop        object\n",
       "Population          object\n",
       "dtype: object"
      ]
     },
     "execution_count": 4,
     "metadata": {},
     "output_type": "execute_result"
    }
   ],
   "source": [
    "df.dtypes"
   ]
  },
  {
   "cell_type": "code",
   "execution_count": 5,
   "metadata": {},
   "outputs": [
    {
     "data": {
      "text/html": [
       "<div>\n",
       "<style scoped>\n",
       "    .dataframe tbody tr th:only-of-type {\n",
       "        vertical-align: middle;\n",
       "    }\n",
       "\n",
       "    .dataframe tbody tr th {\n",
       "        vertical-align: top;\n",
       "    }\n",
       "\n",
       "    .dataframe thead th {\n",
       "        text-align: right;\n",
       "    }\n",
       "</style>\n",
       "<table border=\"1\" class=\"dataframe\">\n",
       "  <thead>\n",
       "    <tr style=\"text-align: right;\">\n",
       "      <th></th>\n",
       "      <th>TotalCases</th>\n",
       "      <th>NewCases</th>\n",
       "      <th>TotalDeaths</th>\n",
       "      <th>NewDeaths</th>\n",
       "      <th>TotalRecovered</th>\n",
       "      <th>NewRecovered</th>\n",
       "      <th>ActiveCases</th>\n",
       "      <th>Serious,Critical</th>\n",
       "      <th>Tot Cases/1M pop</th>\n",
       "      <th>Deaths/1M pop</th>\n",
       "      <th>Total Tests</th>\n",
       "      <th>Tests/1M pop</th>\n",
       "      <th>Population</th>\n",
       "    </tr>\n",
       "  </thead>\n",
       "  <tbody>\n",
       "    <tr>\n",
       "      <th>0</th>\n",
       "      <td>2569139</td>\n",
       "      <td>16183.0</td>\n",
       "      <td>127774.0</td>\n",
       "      <td>134.0</td>\n",
       "      <td>1068949.0</td>\n",
       "      <td>246.0</td>\n",
       "      <td>1372416.0</td>\n",
       "      <td>15765.0</td>\n",
       "      <td>7762.0</td>\n",
       "      <td>386.0</td>\n",
       "      <td>31468569.0</td>\n",
       "      <td>95077.0</td>\n",
       "      <td>330981104.0</td>\n",
       "    </tr>\n",
       "    <tr>\n",
       "      <th>1</th>\n",
       "      <td>1280335</td>\n",
       "      <td>281.0</td>\n",
       "      <td>56121.0</td>\n",
       "      <td>12.0</td>\n",
       "      <td>697526.0</td>\n",
       "      <td>NaN</td>\n",
       "      <td>526688.0</td>\n",
       "      <td>8318.0</td>\n",
       "      <td>6024.0</td>\n",
       "      <td>264.0</td>\n",
       "      <td>2925935.0</td>\n",
       "      <td>13766.0</td>\n",
       "      <td>212541690.0</td>\n",
       "    </tr>\n",
       "  </tbody>\n",
       "</table>\n",
       "</div>"
      ],
      "text/plain": [
       "   TotalCases  NewCases  TotalDeaths  NewDeaths  TotalRecovered  NewRecovered  \\\n",
       "0     2569139   16183.0     127774.0      134.0       1068949.0         246.0   \n",
       "1     1280335     281.0      56121.0       12.0        697526.0           NaN   \n",
       "\n",
       "   ActiveCases  Serious,Critical  Tot Cases/1M pop  Deaths/1M pop  \\\n",
       "0    1372416.0           15765.0            7762.0          386.0   \n",
       "1     526688.0            8318.0            6024.0          264.0   \n",
       "\n",
       "   Total Tests  Tests/1M pop   Population  \n",
       "0   31468569.0       95077.0  330981104.0  \n",
       "1    2925935.0       13766.0  212541690.0  "
      ]
     },
     "execution_count": 5,
     "metadata": {},
     "output_type": "execute_result"
    }
   ],
   "source": [
    "cols = ['TotalCases', 'NewCases', 'TotalDeaths','NewDeaths', 'TotalRecovered', 'NewRecovered', 'ActiveCases','Serious,Critical', 'Tot Cases/1M pop', 'Deaths/1M pop', 'Total Tests','Tests/1M pop', 'Population']\n",
    "ndf = df[cols]\n",
    "ndf = ndf.apply(lambda x: pd.to_numeric(x.astype(str).str.replace(',',''), errors = 'coerce'))\n",
    "ndf.head(2)"
   ]
  },
  {
   "cell_type": "code",
   "execution_count": 6,
   "metadata": {},
   "outputs": [
    {
     "data": {
      "text/html": [
       "<div>\n",
       "<style scoped>\n",
       "    .dataframe tbody tr th:only-of-type {\n",
       "        vertical-align: middle;\n",
       "    }\n",
       "\n",
       "    .dataframe tbody tr th {\n",
       "        vertical-align: top;\n",
       "    }\n",
       "\n",
       "    .dataframe thead th {\n",
       "        text-align: right;\n",
       "    }\n",
       "</style>\n",
       "<table border=\"1\" class=\"dataframe\">\n",
       "  <thead>\n",
       "    <tr style=\"text-align: right;\">\n",
       "      <th></th>\n",
       "      <th>Country,Other</th>\n",
       "      <th>TotalCases</th>\n",
       "      <th>NewCases</th>\n",
       "      <th>TotalDeaths</th>\n",
       "      <th>NewDeaths</th>\n",
       "      <th>TotalRecovered</th>\n",
       "      <th>NewRecovered</th>\n",
       "      <th>ActiveCases</th>\n",
       "      <th>Serious,Critical</th>\n",
       "      <th>Tot Cases/1M pop</th>\n",
       "      <th>Deaths/1M pop</th>\n",
       "      <th>Total Tests</th>\n",
       "      <th>Tests/1M pop</th>\n",
       "      <th>Population</th>\n",
       "    </tr>\n",
       "  </thead>\n",
       "  <tbody>\n",
       "    <tr>\n",
       "      <th>0</th>\n",
       "      <td>USA</td>\n",
       "      <td>2569139</td>\n",
       "      <td>16183.0</td>\n",
       "      <td>127774.0</td>\n",
       "      <td>134.0</td>\n",
       "      <td>1068949.0</td>\n",
       "      <td>246.0</td>\n",
       "      <td>1372416.0</td>\n",
       "      <td>15765.0</td>\n",
       "      <td>7762.0</td>\n",
       "      <td>386.0</td>\n",
       "      <td>31468569.0</td>\n",
       "      <td>95077.0</td>\n",
       "      <td>330981104.0</td>\n",
       "    </tr>\n",
       "    <tr>\n",
       "      <th>1</th>\n",
       "      <td>Brazil</td>\n",
       "      <td>1280335</td>\n",
       "      <td>281.0</td>\n",
       "      <td>56121.0</td>\n",
       "      <td>12.0</td>\n",
       "      <td>697526.0</td>\n",
       "      <td>NaN</td>\n",
       "      <td>526688.0</td>\n",
       "      <td>8318.0</td>\n",
       "      <td>6024.0</td>\n",
       "      <td>264.0</td>\n",
       "      <td>2925935.0</td>\n",
       "      <td>13766.0</td>\n",
       "      <td>212541690.0</td>\n",
       "    </tr>\n",
       "  </tbody>\n",
       "</table>\n",
       "</div>"
      ],
      "text/plain": [
       "  Country,Other  TotalCases  NewCases  TotalDeaths  NewDeaths  TotalRecovered  \\\n",
       "0           USA     2569139   16183.0     127774.0      134.0       1068949.0   \n",
       "1        Brazil     1280335     281.0      56121.0       12.0        697526.0   \n",
       "\n",
       "   NewRecovered  ActiveCases  Serious,Critical  Tot Cases/1M pop  \\\n",
       "0         246.0    1372416.0           15765.0            7762.0   \n",
       "1           NaN     526688.0            8318.0            6024.0   \n",
       "\n",
       "   Deaths/1M pop  Total Tests  Tests/1M pop   Population  \n",
       "0          386.0   31468569.0       95077.0  330981104.0  \n",
       "1          264.0    2925935.0       13766.0  212541690.0  "
      ]
     },
     "execution_count": 6,
     "metadata": {},
     "output_type": "execute_result"
    }
   ],
   "source": [
    "nndf = pd.concat([df['Country,Other'],ndf], axis = 1)\n",
    "nndf.head(2)"
   ]
  },
  {
   "cell_type": "code",
   "execution_count": 7,
   "metadata": {},
   "outputs": [
    {
     "data": {
      "text/plain": [
       "Country,Other        object\n",
       "TotalCases            int64\n",
       "NewCases            float64\n",
       "TotalDeaths         float64\n",
       "NewDeaths           float64\n",
       "TotalRecovered      float64\n",
       "NewRecovered        float64\n",
       "ActiveCases         float64\n",
       "Serious,Critical    float64\n",
       "Tot Cases/1M pop    float64\n",
       "Deaths/1M pop       float64\n",
       "Total Tests         float64\n",
       "Tests/1M pop        float64\n",
       "Population          float64\n",
       "dtype: object"
      ]
     },
     "execution_count": 7,
     "metadata": {},
     "output_type": "execute_result"
    }
   ],
   "source": [
    "nndf.dtypes"
   ]
  },
  {
   "cell_type": "code",
   "execution_count": 8,
   "metadata": {},
   "outputs": [
    {
     "data": {
      "image/png": "[encoded data removed]",
      "text/plain": [
       "<Figure size 1296x720 with 1 Axes>"
      ]
     },
     "metadata": {
      "needs_background": "light"
     },
     "output_type": "display_data"
    }
   ],
   "source": [
    "import matplotlib.pyplot as plt\n",
    "import numpy as np\n",
    "\n",
    "nndf = nndf.iloc[:10,:]\n",
    "x = len(nndf['Country,Other'])\n",
    "y1 = nndf['Population']/100\n",
    "y2 = nndf['Total Tests']\n",
    "y3 = nndf['TotalCases']\n",
    "\n",
    "fig, ax = plt.subplots(figsize = (18,10))\n",
    "indx = np.arange(1, x+1)\n",
    "bar_width = 0.20\n",
    "\n",
    "b1 = plt.bar(indx, y1, bar_width, color = 'green', label = 'Population/100')\n",
    "b2 = plt.bar(indx + bar_width, y2, bar_width, color = 'blue', label = 'Tests')\n",
    "b3 = plt.bar(indx + bar_width + bar_width, y3, bar_width,color = 'red', label = 'Cases')\n",
    "\n",
    "plt.ticklabel_format(useOffset = False, style = 'plain')\n",
    "\n",
    "plt.xticks(indx+bar_width, nndf['Country,Other'], fontsize = '20')\n",
    "plt.yticks(fontsize = '15')\n",
    "plt.title('Population/100 V/S Total Test V/S Total Cases of Top 10 Countries')\n",
    "plt.legend()\n",
    "plt.show()"
   ]
  },
  {
   "cell_type": "code",
   "execution_count": 9,
   "metadata": {},
   "outputs": [
    {
     "name": "stdout",
     "output_type": "stream",
     "text": [
      "3\n"
     ]
    },
    {
     "data": {
      "image/png": "[encoded data removed]",
      "text/plain": [
       "<Figure size 1296x720 with 1 Axes>"
      ]
     },
     "metadata": {
      "needs_background": "light"
     },
     "output_type": "display_data"
    }
   ],
   "source": [
    "plt.figure(figsize=(18,10))\n",
    "i = nndf[nndf['Country,Other'] == 'India'].index[0]\n",
    "print(i)\n",
    "bar = plt.bar(nndf['Country,Other'],nndf['TotalCases'], label = '#Cases')\n",
    "bar[i].set_color('r')\n",
    "plt.xticks(rotation = 90, size = 12)\n",
    "plt.yticks(size = 12)\n",
    "plt.xlabel('Contries', size = 15)\n",
    "for i, j in enumerate(nndf['TotalCases']):\n",
    "    plt.text(i,j, s=j, fontdict=dict(fontsize=15), ha='center', verticalalignment='bottom', alpha=0.8)\n",
    "plt.title('#Cases', fontsize = 15)\n",
    "plt.legend()\n",
    "plt.show()"
   ]
  },
  {
   "cell_type": "code",
   "execution_count": 10,
   "metadata": {},
   "outputs": [
    {
     "data": {
      "text/html": [
       "<div>\n",
       "<style scoped>\n",
       "    .dataframe tbody tr th:only-of-type {\n",
       "        vertical-align: middle;\n",
       "    }\n",
       "\n",
       "    .dataframe tbody tr th {\n",
       "        vertical-align: top;\n",
       "    }\n",
       "\n",
       "    .dataframe thead th {\n",
       "        text-align: right;\n",
       "    }\n",
       "</style>\n",
       "<table border=\"1\" class=\"dataframe\">\n",
       "  <thead>\n",
       "    <tr style=\"text-align: right;\">\n",
       "      <th></th>\n",
       "      <th>Country,Other</th>\n",
       "      <th>TotalCases</th>\n",
       "      <th>NewCases</th>\n",
       "      <th>TotalDeaths</th>\n",
       "      <th>NewDeaths</th>\n",
       "      <th>TotalRecovered</th>\n",
       "      <th>NewRecovered</th>\n",
       "      <th>ActiveCases</th>\n",
       "      <th>Serious,Critical</th>\n",
       "      <th>Tot Cases/1M pop</th>\n",
       "      <th>Deaths/1M pop</th>\n",
       "      <th>Total Tests</th>\n",
       "      <th>Tests/1M pop</th>\n",
       "      <th>Population</th>\n",
       "    </tr>\n",
       "  </thead>\n",
       "  <tbody>\n",
       "    <tr>\n",
       "      <th>0</th>\n",
       "      <td>USA</td>\n",
       "      <td>2569139</td>\n",
       "      <td>16183.0</td>\n",
       "      <td>127774.0</td>\n",
       "      <td>134.0</td>\n",
       "      <td>1068949.0</td>\n",
       "      <td>246.0</td>\n",
       "      <td>1372416.0</td>\n",
       "      <td>15765.0</td>\n",
       "      <td>7762.0</td>\n",
       "      <td>386.0</td>\n",
       "      <td>31468569.0</td>\n",
       "      <td>95077.0</td>\n",
       "      <td>330981104.0</td>\n",
       "    </tr>\n",
       "    <tr>\n",
       "      <th>1</th>\n",
       "      <td>Brazil</td>\n",
       "      <td>1280335</td>\n",
       "      <td>281.0</td>\n",
       "      <td>56121.0</td>\n",
       "      <td>12.0</td>\n",
       "      <td>697526.0</td>\n",
       "      <td>NaN</td>\n",
       "      <td>526688.0</td>\n",
       "      <td>8318.0</td>\n",
       "      <td>6024.0</td>\n",
       "      <td>264.0</td>\n",
       "      <td>2925935.0</td>\n",
       "      <td>13766.0</td>\n",
       "      <td>212541690.0</td>\n",
       "    </tr>\n",
       "  </tbody>\n",
       "</table>\n",
       "</div>"
      ],
      "text/plain": [
       "  Country,Other  TotalCases  NewCases  TotalDeaths  NewDeaths  TotalRecovered  \\\n",
       "0           USA     2569139   16183.0     127774.0      134.0       1068949.0   \n",
       "1        Brazil     1280335     281.0      56121.0       12.0        697526.0   \n",
       "\n",
       "   NewRecovered  ActiveCases  Serious,Critical  Tot Cases/1M pop  \\\n",
       "0         246.0    1372416.0           15765.0            7762.0   \n",
       "1           NaN     526688.0            8318.0            6024.0   \n",
       "\n",
       "   Deaths/1M pop  Total Tests  Tests/1M pop   Population  \n",
       "0          386.0   31468569.0       95077.0  330981104.0  \n",
       "1          264.0    2925935.0       13766.0  212541690.0  "
      ]
     },
     "execution_count": 10,
     "metadata": {},
     "output_type": "execute_result"
    }
   ],
   "source": [
    "nndf.head(2)"
   ]
  },
  {
   "cell_type": "code",
   "execution_count": 11,
   "metadata": {},
   "outputs": [
    {
     "data": {
      "text/html": [
       "<div>\n",
       "<style scoped>\n",
       "    .dataframe tbody tr th:only-of-type {\n",
       "        vertical-align: middle;\n",
       "    }\n",
       "\n",
       "    .dataframe tbody tr th {\n",
       "        vertical-align: top;\n",
       "    }\n",
       "\n",
       "    .dataframe thead th {\n",
       "        text-align: right;\n",
       "    }\n",
       "</style>\n",
       "<table border=\"1\" class=\"dataframe\">\n",
       "  <thead>\n",
       "    <tr style=\"text-align: right;\">\n",
       "      <th></th>\n",
       "      <th>TotalCases</th>\n",
       "      <th>NewCases</th>\n",
       "      <th>TotalDeaths</th>\n",
       "      <th>NewDeaths</th>\n",
       "      <th>TotalRecovered</th>\n",
       "      <th>NewRecovered</th>\n",
       "      <th>ActiveCases</th>\n",
       "      <th>Serious,Critical</th>\n",
       "      <th>Tot Cases/1M pop</th>\n",
       "      <th>Deaths/1M pop</th>\n",
       "      <th>Total Tests</th>\n",
       "      <th>Tests/1M pop</th>\n",
       "      <th>Population</th>\n",
       "    </tr>\n",
       "    <tr>\n",
       "      <th>Country,Other</th>\n",
       "      <th></th>\n",
       "      <th></th>\n",
       "      <th></th>\n",
       "      <th></th>\n",
       "      <th></th>\n",
       "      <th></th>\n",
       "      <th></th>\n",
       "      <th></th>\n",
       "      <th></th>\n",
       "      <th></th>\n",
       "      <th></th>\n",
       "      <th></th>\n",
       "      <th></th>\n",
       "    </tr>\n",
       "  </thead>\n",
       "  <tbody>\n",
       "    <tr>\n",
       "      <th>USA</th>\n",
       "      <td>2569139</td>\n",
       "      <td>16183.0</td>\n",
       "      <td>127774.0</td>\n",
       "      <td>134.0</td>\n",
       "      <td>1068949.0</td>\n",
       "      <td>246.0</td>\n",
       "      <td>1372416.0</td>\n",
       "      <td>15765.0</td>\n",
       "      <td>7762.0</td>\n",
       "      <td>386.0</td>\n",
       "      <td>31468569.0</td>\n",
       "      <td>95077.0</td>\n",
       "      <td>330981104.0</td>\n",
       "    </tr>\n",
       "    <tr>\n",
       "      <th>Brazil</th>\n",
       "      <td>1280335</td>\n",
       "      <td>281.0</td>\n",
       "      <td>56121.0</td>\n",
       "      <td>12.0</td>\n",
       "      <td>697526.0</td>\n",
       "      <td>NaN</td>\n",
       "      <td>526688.0</td>\n",
       "      <td>8318.0</td>\n",
       "      <td>6024.0</td>\n",
       "      <td>264.0</td>\n",
       "      <td>2925935.0</td>\n",
       "      <td>13766.0</td>\n",
       "      <td>212541690.0</td>\n",
       "    </tr>\n",
       "  </tbody>\n",
       "</table>\n",
       "</div>"
      ],
      "text/plain": [
       "               TotalCases  NewCases  TotalDeaths  NewDeaths  TotalRecovered  \\\n",
       "Country,Other                                                                 \n",
       "USA               2569139   16183.0     127774.0      134.0       1068949.0   \n",
       "Brazil            1280335     281.0      56121.0       12.0        697526.0   \n",
       "\n",
       "               NewRecovered  ActiveCases  Serious,Critical  Tot Cases/1M pop  \\\n",
       "Country,Other                                                                  \n",
       "USA                   246.0    1372416.0           15765.0            7762.0   \n",
       "Brazil                  NaN     526688.0            8318.0            6024.0   \n",
       "\n",
       "               Deaths/1M pop  Total Tests  Tests/1M pop   Population  \n",
       "Country,Other                                                         \n",
       "USA                    386.0   31468569.0       95077.0  330981104.0  \n",
       "Brazil                 264.0    2925935.0       13766.0  212541690.0  "
      ]
     },
     "execution_count": 11,
     "metadata": {},
     "output_type": "execute_result"
    }
   ],
   "source": [
    "nndf = nndf.set_index('Country,Other')\n",
    "nndf.drop(index = ['UK','Spain'], inplace = True)\n",
    "nndf.head(2)"
   ]
  },
  {
   "cell_type": "code",
   "execution_count": 12,
   "metadata": {},
   "outputs": [
    {
     "data": {
      "text/html": [
       "<div>\n",
       "<style scoped>\n",
       "    .dataframe tbody tr th:only-of-type {\n",
       "        vertical-align: middle;\n",
       "    }\n",
       "\n",
       "    .dataframe tbody tr th {\n",
       "        vertical-align: top;\n",
       "    }\n",
       "\n",
       "    .dataframe thead th {\n",
       "        text-align: right;\n",
       "    }\n",
       "</style>\n",
       "<table border=\"1\" class=\"dataframe\">\n",
       "  <thead>\n",
       "    <tr style=\"text-align: right;\">\n",
       "      <th></th>\n",
       "      <th>Country,Other</th>\n",
       "      <th>TotalCases</th>\n",
       "      <th>NewCases</th>\n",
       "      <th>TotalDeaths</th>\n",
       "      <th>NewDeaths</th>\n",
       "      <th>TotalRecovered</th>\n",
       "      <th>NewRecovered</th>\n",
       "      <th>ActiveCases</th>\n",
       "      <th>Serious,Critical</th>\n",
       "      <th>Tot Cases/1M pop</th>\n",
       "      <th>Deaths/1M pop</th>\n",
       "      <th>Total Tests</th>\n",
       "      <th>Tests/1M pop</th>\n",
       "      <th>Population</th>\n",
       "    </tr>\n",
       "  </thead>\n",
       "  <tbody>\n",
       "    <tr>\n",
       "      <th>0</th>\n",
       "      <td>USA</td>\n",
       "      <td>2569139</td>\n",
       "      <td>16183.0</td>\n",
       "      <td>127774.0</td>\n",
       "      <td>134.0</td>\n",
       "      <td>1068949.0</td>\n",
       "      <td>246.0</td>\n",
       "      <td>1372416.0</td>\n",
       "      <td>15765.0</td>\n",
       "      <td>7762.0</td>\n",
       "      <td>386.0</td>\n",
       "      <td>31468569.0</td>\n",
       "      <td>95077.0</td>\n",
       "      <td>330981104.0</td>\n",
       "    </tr>\n",
       "    <tr>\n",
       "      <th>1</th>\n",
       "      <td>Brazil</td>\n",
       "      <td>1280335</td>\n",
       "      <td>281.0</td>\n",
       "      <td>56121.0</td>\n",
       "      <td>12.0</td>\n",
       "      <td>697526.0</td>\n",
       "      <td>NaN</td>\n",
       "      <td>526688.0</td>\n",
       "      <td>8318.0</td>\n",
       "      <td>6024.0</td>\n",
       "      <td>264.0</td>\n",
       "      <td>2925935.0</td>\n",
       "      <td>13766.0</td>\n",
       "      <td>212541690.0</td>\n",
       "    </tr>\n",
       "  </tbody>\n",
       "</table>\n",
       "</div>"
      ],
      "text/plain": [
       "  Country,Other  TotalCases  NewCases  TotalDeaths  NewDeaths  TotalRecovered  \\\n",
       "0           USA     2569139   16183.0     127774.0      134.0       1068949.0   \n",
       "1        Brazil     1280335     281.0      56121.0       12.0        697526.0   \n",
       "\n",
       "   NewRecovered  ActiveCases  Serious,Critical  Tot Cases/1M pop  \\\n",
       "0         246.0    1372416.0           15765.0            7762.0   \n",
       "1           NaN     526688.0            8318.0            6024.0   \n",
       "\n",
       "   Deaths/1M pop  Total Tests  Tests/1M pop   Population  \n",
       "0          386.0   31468569.0       95077.0  330981104.0  \n",
       "1          264.0    2925935.0       13766.0  212541690.0  "
      ]
     },
     "execution_count": 12,
     "metadata": {},
     "output_type": "execute_result"
    }
   ],
   "source": [
    "nndf.reset_index(inplace = True)\n",
    "nndf.head(2)"
   ]
  },
  {
   "cell_type": "code",
   "execution_count": 13,
   "metadata": {},
   "outputs": [
    {
     "data": {
      "text/html": [
       "<div>\n",
       "<style scoped>\n",
       "    .dataframe tbody tr th:only-of-type {\n",
       "        vertical-align: middle;\n",
       "    }\n",
       "\n",
       "    .dataframe tbody tr th {\n",
       "        vertical-align: top;\n",
       "    }\n",
       "\n",
       "    .dataframe thead th {\n",
       "        text-align: right;\n",
       "    }\n",
       "</style>\n",
       "<table border=\"1\" class=\"dataframe\">\n",
       "  <thead>\n",
       "    <tr style=\"text-align: right;\">\n",
       "      <th></th>\n",
       "      <th>Country,Other</th>\n",
       "      <th>TotalCases</th>\n",
       "      <th>NewCases</th>\n",
       "      <th>TotalDeaths</th>\n",
       "      <th>NewDeaths</th>\n",
       "      <th>TotalRecovered</th>\n",
       "      <th>NewRecovered</th>\n",
       "      <th>ActiveCases</th>\n",
       "      <th>Serious,Critical</th>\n",
       "      <th>Tot Cases/1M pop</th>\n",
       "      <th>Deaths/1M pop</th>\n",
       "      <th>Total Tests</th>\n",
       "      <th>Tests/1M pop</th>\n",
       "      <th>Population</th>\n",
       "    </tr>\n",
       "  </thead>\n",
       "  <tbody>\n",
       "    <tr>\n",
       "      <th>0</th>\n",
       "      <td>USA</td>\n",
       "      <td>2569139</td>\n",
       "      <td>16183.0</td>\n",
       "      <td>127774.0</td>\n",
       "      <td>134.0</td>\n",
       "      <td>1068949.0</td>\n",
       "      <td>246.0</td>\n",
       "      <td>1372416.0</td>\n",
       "      <td>15765.0</td>\n",
       "      <td>7762.0</td>\n",
       "      <td>386.0</td>\n",
       "      <td>31468569.0</td>\n",
       "      <td>95077.0</td>\n",
       "      <td>330981104.0</td>\n",
       "    </tr>\n",
       "    <tr>\n",
       "      <th>1</th>\n",
       "      <td>Brazil</td>\n",
       "      <td>1280335</td>\n",
       "      <td>281.0</td>\n",
       "      <td>56121.0</td>\n",
       "      <td>12.0</td>\n",
       "      <td>697526.0</td>\n",
       "      <td>NaN</td>\n",
       "      <td>526688.0</td>\n",
       "      <td>8318.0</td>\n",
       "      <td>6024.0</td>\n",
       "      <td>264.0</td>\n",
       "      <td>2925935.0</td>\n",
       "      <td>13766.0</td>\n",
       "      <td>212541690.0</td>\n",
       "    </tr>\n",
       "  </tbody>\n",
       "</table>\n",
       "</div>"
      ],
      "text/plain": [
       "  Country,Other  TotalCases  NewCases  TotalDeaths  NewDeaths  TotalRecovered  \\\n",
       "0           USA     2569139   16183.0     127774.0      134.0       1068949.0   \n",
       "1        Brazil     1280335     281.0      56121.0       12.0        697526.0   \n",
       "\n",
       "   NewRecovered  ActiveCases  Serious,Critical  Tot Cases/1M pop  \\\n",
       "0         246.0    1372416.0           15765.0            7762.0   \n",
       "1           NaN     526688.0            8318.0            6024.0   \n",
       "\n",
       "   Deaths/1M pop  Total Tests  Tests/1M pop   Population  \n",
       "0          386.0   31468569.0       95077.0  330981104.0  \n",
       "1          264.0    2925935.0       13766.0  212541690.0  "
      ]
     },
     "execution_count": 13,
     "metadata": {},
     "output_type": "execute_result"
    }
   ],
   "source": [
    "nndf = pd.concat([df['Country,Other'],ndf], axis = 1)\n",
    "nndf.head(2)"
   ]
  },
  {
   "cell_type": "code",
   "execution_count": 14,
   "metadata": {},
   "outputs": [
    {
     "data": {
      "text/html": [
       "<div>\n",
       "<style scoped>\n",
       "    .dataframe tbody tr th:only-of-type {\n",
       "        vertical-align: middle;\n",
       "    }\n",
       "\n",
       "    .dataframe tbody tr th {\n",
       "        vertical-align: top;\n",
       "    }\n",
       "\n",
       "    .dataframe thead th {\n",
       "        text-align: right;\n",
       "    }\n",
       "</style>\n",
       "<table border=\"1\" class=\"dataframe\">\n",
       "  <thead>\n",
       "    <tr style=\"text-align: right;\">\n",
       "      <th></th>\n",
       "      <th>Country,Other</th>\n",
       "      <th>TotalCases</th>\n",
       "      <th>NewCases</th>\n",
       "      <th>TotalDeaths</th>\n",
       "      <th>NewDeaths</th>\n",
       "      <th>TotalRecovered</th>\n",
       "      <th>NewRecovered</th>\n",
       "      <th>ActiveCases</th>\n",
       "      <th>Serious,Critical</th>\n",
       "      <th>Tot Cases/1M pop</th>\n",
       "      <th>Deaths/1M pop</th>\n",
       "      <th>Total Tests</th>\n",
       "      <th>Tests/1M pop</th>\n",
       "      <th>Population</th>\n",
       "      <th>Recovered %age</th>\n",
       "    </tr>\n",
       "  </thead>\n",
       "  <tbody>\n",
       "    <tr>\n",
       "      <th>0</th>\n",
       "      <td>USA</td>\n",
       "      <td>2569139</td>\n",
       "      <td>16183.0</td>\n",
       "      <td>127774.0</td>\n",
       "      <td>134.0</td>\n",
       "      <td>1068949.0</td>\n",
       "      <td>246.0</td>\n",
       "      <td>1372416.0</td>\n",
       "      <td>15765.0</td>\n",
       "      <td>7762.0</td>\n",
       "      <td>386.0</td>\n",
       "      <td>31468569.0</td>\n",
       "      <td>95077.0</td>\n",
       "      <td>330981104.0</td>\n",
       "      <td>41.6</td>\n",
       "    </tr>\n",
       "    <tr>\n",
       "      <th>1</th>\n",
       "      <td>Brazil</td>\n",
       "      <td>1280335</td>\n",
       "      <td>281.0</td>\n",
       "      <td>56121.0</td>\n",
       "      <td>12.0</td>\n",
       "      <td>697526.0</td>\n",
       "      <td>NaN</td>\n",
       "      <td>526688.0</td>\n",
       "      <td>8318.0</td>\n",
       "      <td>6024.0</td>\n",
       "      <td>264.0</td>\n",
       "      <td>2925935.0</td>\n",
       "      <td>13766.0</td>\n",
       "      <td>212541690.0</td>\n",
       "      <td>54.5</td>\n",
       "    </tr>\n",
       "  </tbody>\n",
       "</table>\n",
       "</div>"
      ],
      "text/plain": [
       "  Country,Other  TotalCases  NewCases  TotalDeaths  NewDeaths  TotalRecovered  \\\n",
       "0           USA     2569139   16183.0     127774.0      134.0       1068949.0   \n",
       "1        Brazil     1280335     281.0      56121.0       12.0        697526.0   \n",
       "\n",
       "   NewRecovered  ActiveCases  Serious,Critical  Tot Cases/1M pop  \\\n",
       "0         246.0    1372416.0           15765.0            7762.0   \n",
       "1           NaN     526688.0            8318.0            6024.0   \n",
       "\n",
       "   Deaths/1M pop  Total Tests  Tests/1M pop   Population  Recovered %age  \n",
       "0          386.0   31468569.0       95077.0  330981104.0            41.6  \n",
       "1          264.0    2925935.0       13766.0  212541690.0            54.5  "
      ]
     },
     "execution_count": 14,
     "metadata": {},
     "output_type": "execute_result"
    }
   ],
   "source": [
    "nndf['Recovered %age'] = (nndf['TotalRecovered']/nndf['TotalCases'])*100\n",
    "nndf = nndf.round({'Recovered %age' : 1})\n",
    "nndf.head(2)"
   ]
  },
  {
   "cell_type": "code",
   "execution_count": 16,
   "metadata": {},
   "outputs": [
    {
     "data": {
      "image/png": "[encoded data removed]",
      "text/plain": [
       "<Figure size 1296x1080 with 1 Axes>"
      ]
     },
     "metadata": {
      "needs_background": "light"
     },
     "output_type": "display_data"
    }
   ],
   "source": [
    "nndf = nndf.iloc[:20,:]\n",
    "nndf = nndf.set_index('Country,Other')\n",
    "nndf = nndf.drop(['Spain', 'UK'])\n",
    "nndf.reset_index(inplace = True)\n",
    "\n",
    "fig, ax = plt.subplots(figsize = (18,15))\n",
    "\n",
    "\n",
    "indx = np.arange(1, 2)\n",
    "w = 0.3\n",
    "\n",
    "\n",
    "y = nndf['Country,Other']\n",
    "x1 = nndf['ActiveCases']\n",
    "x2 = nndf['TotalRecovered']\n",
    "x3 = nndf['TotalDeaths']\n",
    "\n",
    "# y,x = zip(*sorted(zip(y,x)))\n",
    "\n",
    "ax.barh(y, x1, label = 'ActiveCases')\n",
    "ax.barh(y, x2, label = 'TotalRecovered', left = x1, color = 'g')\n",
    "ax.barh(y, x3, label = 'TotalDeaths', color = 'orange', left = list(map(lambda Active, Recovered: Active + Recovered, x1 , x2)))\n",
    "ax.invert_yaxis()\n",
    "\n",
    "rects = ax.patches\n",
    "labels = [i for i in nndf['Recovered %age']]\n",
    "\n",
    "for i, v in enumerate(nndf['TotalCases']):\n",
    "    plt.text(v, i, s= str(nndf[nndf['TotalCases'] == v]['Recovered %age'].item()) + '%', fontdict=dict(fontsize=15), va = 'center', ha = 'left', alpha=1)\n",
    "plt.text(2000000, 18, \"* Data of UK & Spain is not available\", fontsize = 10)\n",
    "plt.legend( loc = 'center', prop={'size': 26})\n",
    "plt.xticks(size = 15)\n",
    "# ax.xaxis.tick_top()\n",
    "plt.yticks(size = 15)\n",
    "plt.title('Recovered %age of Covid-19 Cases', fontsize = 15)\n",
    "plt.savefig(r'C:\\Users\\Madhur\\Desktop\\j_pig.png', bbox_inches = 'tight')\n",
    "plt.show()"
   ]
  },
  {
   "cell_type": "markdown",
   "metadata": {},
   "source": [
    "# Below code is not updated."
   ]
  },
  {
   "cell_type": "code",
   "execution_count": null,
   "metadata": {},
   "outputs": [],
   "source": [
    "\n",
    "\n",
    "'''\n",
    "for p in ax.patches:\n",
    "    percentage ='{:,.0f}'.format(p.get_width())\n",
    "    width, height =p.get_width(),p.get_height()\n",
    "    x=p.get_x()+width+0.02\n",
    "    y=p.get_y()+height/2\n",
    "    ax.annotate(percentage,(x,y))\n",
    "\n",
    "\n",
    "    \n",
    "\n",
    "\n",
    "# for rect, label in zip(rects, labels):\n",
    "#     height = rect.get_height()\n",
    "#     ax.text(rect.get_x() + rect.get_width() / 2, height + 5, label,\n",
    "#             ha='center', va='bottom')    \n",
    "\n",
    "for i, v in enumerate(nndf['Country,Other']):\n",
    "    ax.text(i ,v, s= nndf[nndf['Country,Other'] == v]['Recovered %age'].item(), fontdict=dict(fontsize=10), va = 'center', ha = 'center', alpha=1)\n",
    "#     ax.text(int(v) + 3, int(i) + .25, str(v), color='blue', fontweight='bold')\n",
    "\n",
    "    \n",
    "for i, j in enumerate(nndf['Recovered %age']):\n",
    "    ax.text(i,j, s=j, fontsize=10,  va = 'center', ha = 'center', alpha=1)\n",
    "    \n",
    " xerr=error, align='center')\n",
    "ax.set_yticks(y_pos)\n",
    "ax.set_yticklabels(people)b\n",
    "\n",
    "ax.invert_yaxis()  # labels read top-to-bottom\n",
    "ax.set_xlabel('Performance')\n",
    "ax.set_title('How fast do you want to go today?')\n",
    "'''"
   ]
  },
  {
   "cell_type": "code",
   "execution_count": null,
   "metadata": {},
   "outputs": [],
   "source": [
    "plt.legend?"
   ]
  },
  {
   "cell_type": "code",
   "execution_count": null,
   "metadata": {},
   "outputs": [],
   "source": [
    "indf = nndf[nndf['Country,Other'] == 'India']\n",
    "\n",
    "\n",
    "x = len()\n",
    "\n",
    "\n",
    "\n",
    "indx = np.arange(1, x+1)\n",
    "bar_width = 0.30\n",
    "\n",
    "# b1 = plt.bar(indx, y1, bar_width, color = 'green', label = 'Total Tests/10')\n",
    "b2 = \n",
    "b3 = ax.hist(indx+w, y3, width = 0.3, label = 'TotalRecovered', bottom = nndf['ActiveCases'])\n",
    "\n",
    "\n",
    "#b2 = plt.bar(indx + bar_width, y2, bar_width, color = 'blue', label = 'Active Cases')\n",
    "#b3 = plt.bar(indx + bar_width + bar_width, y3, bar_width,color = 'red', label = 'Recovered Cases')\n",
    "\n",
    "plt.ticklabel_format(useOffset = False, style = 'plain')\n",
    "\n",
    "plt.xticks(indx+bar_width, nndf['Country,Other'], fontsize = '20')\n",
    "plt.yticks(fontsize = '15')\n",
    "plt.title('Population/100 V/S Total Test V/S Total Cases of Top 10 Countries')\n",
    "\n",
    "\n",
    "'''\n",
    "for i, j in enumerate(nndf['TotalCases']):\n",
    "    plt.text(i,j, s=j, fontdict=dict(fontsize=15), ha='center', verticalalignment='bottom', alpha=0.8)\n",
    "'''\n",
    "plt.show()"
   ]
  },
  {
   "cell_type": "markdown",
   "metadata": {},
   "source": [
    "\n"
   ]
  },
  {
   "cell_type": "code",
   "execution_count": null,
   "metadata": {},
   "outputs": [],
   "source": [
    "import json\n",
    "import requests\n",
    "import pandas as pd\n",
    "\n",
    "df = pd.DataFrame()\n",
    "for i  in range(1,7):\n",
    "    r = requests.get(f\"https://api.covid19india.org/raw_data{i}.json\")\n",
    "    r_text = r.text\n",
    "    data = json.loads(r_text)\n",
    "    data = data['raw_data']\n",
    "    data_serialized = json.dumps(data)\n",
    "    df1 = pd.DataFrame(data)\n",
    "    df = df.append(df1)"
   ]
  },
  {
   "cell_type": "code",
   "execution_count": null,
   "metadata": {},
   "outputs": [],
   "source": [
    "df.shape"
   ]
  },
  {
   "cell_type": "code",
   "execution_count": null,
   "metadata": {},
   "outputs": [],
   "source": [
    "df.isnull().sum()"
   ]
  },
  {
   "cell_type": "code",
   "execution_count": null,
   "metadata": {},
   "outputs": [],
   "source": [
    "import numpy as np\n",
    "df.replace(r'^\\s*$', np.nan, regex = True, inplace = True)"
   ]
  },
  {
   "cell_type": "code",
   "execution_count": null,
   "metadata": {},
   "outputs": [],
   "source": [
    "df.isnull().sum()"
   ]
  },
  {
   "cell_type": "code",
   "execution_count": null,
   "metadata": {},
   "outputs": [],
   "source": [
    "pd.set_option('display.max_columns',None)\n",
    "df.reset_index(inplace = True)\n",
    "df.dropna(subset = ['dateannounced'], inplace = True)\n",
    "df.shape"
   ]
  },
  {
   "cell_type": "code",
   "execution_count": null,
   "metadata": {},
   "outputs": [],
   "source": [
    "df.dtypes"
   ]
  },
  {
   "cell_type": "code",
   "execution_count": null,
   "metadata": {},
   "outputs": [],
   "source": [
    "df['dateannounced'] = pd.to_datetime(df['dateannounced'], format = '%d/%m/%Y')\n",
    "# print(df['dateannounced'].dtype)\n",
    "df['datetimestr'] = df['dateannounced'].dt.strftime('%m-%d')\n",
    "df.head()"
   ]
  },
  {
   "cell_type": "code",
   "execution_count": null,
   "metadata": {},
   "outputs": [],
   "source": [
    "df.dtypes"
   ]
  },
  {
   "cell_type": "code",
   "execution_count": null,
   "metadata": {},
   "outputs": [],
   "source": [
    "df['numcases'] = pd.to_numeric(df['numcases'])\n",
    "df.dtypes"
   ]
  },
  {
   "cell_type": "code",
   "execution_count": null,
   "metadata": {},
   "outputs": [],
   "source": [
    "df.numcases = df.numcases.astype('Int64')\n",
    "df.numcases.dtype"
   ]
  },
  {
   "cell_type": "code",
   "execution_count": null,
   "metadata": {},
   "outputs": [],
   "source": [
    "df['numcases'].unique()"
   ]
  },
  {
   "cell_type": "code",
   "execution_count": null,
   "metadata": {},
   "outputs": [],
   "source": [
    "ndf = df[df['detectedstate']=='Delhi'][['currentstatus','dateannounced','detectedcity','detecteddistrict','gender','numcases']]"
   ]
  },
  {
   "cell_type": "code",
   "execution_count": null,
   "metadata": {},
   "outputs": [],
   "source": [
    "ndf.numcases.sum()"
   ]
  },
  {
   "cell_type": "code",
   "execution_count": null,
   "metadata": {},
   "outputs": [],
   "source": [
    "ndf[ndf['dateannounced'] == '18/06/2020']"
   ]
  },
  {
   "cell_type": "code",
   "execution_count": null,
   "metadata": {},
   "outputs": [],
   "source": [
    "ndf[ndf['currentstatus'] == 'Hospitalized']['numcases'].sum()"
   ]
  },
  {
   "cell_type": "code",
   "execution_count": null,
   "metadata": {},
   "outputs": [],
   "source": [
    "df"
   ]
  },
  {
   "cell_type": "code",
   "execution_count": null,
   "metadata": {},
   "outputs": [],
   "source": [
    "\n",
    "import json\n",
    "import requests\n",
    "import pandas as pd\n",
    "\n",
    "r1 = requests.get(f\"https://api.covid19india.org/raw_data1.json\")\n",
    "r1_text = r1.text\n",
    "data1 = json.loads(r1_text)\n",
    "data1 = data1['raw_data']\n",
    "data_serialized1 = json.dumps(data1)\n",
    "df1 = pd.DataFrame(data1)\n",
    "df1.tail()"
   ]
  },
  {
   "cell_type": "code",
   "execution_count": null,
   "metadata": {},
   "outputs": [],
   "source": [
    "r2 = requests.get(f\"https://api.covid19india.org/raw_data2.json\")\n",
    "r2_text = r2.text\n",
    "data2 = json.loads(r2_text)\n",
    "data2 = data2['raw_data']\n",
    "data_serialized2 = json.dumps(data2)\n",
    "df2 = pd.DataFrame(data2) \n",
    "\n",
    "df2.tail()"
   ]
  },
  {
   "cell_type": "code",
   "execution_count": null,
   "metadata": {},
   "outputs": [],
   "source": [
    "r3 = requests.get(f\"https://api.covid19india.org/raw_data3.json\")\n",
    "r3_text = r3.text\n",
    "data3 = json.loads(r3_text)\n",
    "data3 = data3['raw_data']\n",
    "data_serialized3 = json.dumps(data3)\n",
    "df3 = pd.DataFrame(data3) \n",
    "\n",
    "df3.tail()"
   ]
  },
  {
   "cell_type": "code",
   "execution_count": null,
   "metadata": {},
   "outputs": [],
   "source": [
    "r4 = requests.get(f\"https://api.covid19india.org/raw_data4.json\")\n",
    "r4_text = r4.text\n",
    "data4 = json.loads(r4_text)\n",
    "data4 = data4['raw_data']\n",
    "data_serialized4 = json.dumps(data4)\n",
    "df4 = pd.DataFrame(data4) \n",
    "\n",
    "df4.tail()"
   ]
  },
  {
   "cell_type": "code",
   "execution_count": null,
   "metadata": {},
   "outputs": [],
   "source": [
    "df = pd.concat([df1,df2,df3,df4], axis = 0)\n",
    "df = df.reset_index()\n",
    "# last = df[df['dateannounced'] == ''].index[0]\n",
    "# df = df.iloc[0:last,:]\n",
    "df.tail()"
   ]
  },
  {
   "cell_type": "code",
   "execution_count": null,
   "metadata": {},
   "outputs": [],
   "source": [
    "import json\n",
    "import requests\n",
    "import pandas as pd\n",
    "'''\n",
    "for i in '123':\n",
    "    'request' + i = requests.get(f\"'https://api.covid19india.org/raw_data' + '{i}'.json\")\n",
    "    #https://raw.githubusercontent.com/covid19india/api/master/raw_data.json')\n",
    "    r_text = request.text\n",
    "    data + i = json.loads(r_text)\n",
    "#     print(type(data))\n",
    "    data_serialized + i = json.dumps(data)\n",
    "#     print(type(data_serialized))\n",
    "    data + i = data['raw_data']\n",
    "    df + i = pd.DataFrame(data + i) \n",
    "\n",
    "    #     print(type(data1))\n",
    "# data1\n",
    "# df = pd.DataFrame(list(data1.items()),columns = ['column1','column2']) \n",
    "# df\n",
    "# l = []\n",
    "# for i in data1:\n",
    "#     for p,q in i.items():\n",
    "#         l.append(q)\n",
    "'''\n",
    "\n",
    "r1 = requests.get(f\"https://api.covid19india.org/raw_data1.json\")\n",
    "r2 = requests.get(f\"https://api.covid19india.org/raw_data2.json\")\n",
    "r3 = requests.get(f\"https://api.covid19india.org/raw_data3.json\")\n",
    "\n",
    "r1_text = r1.text\n",
    "r2_text = r2.text\n",
    "r3_text = r3.text\n",
    "\n",
    "data1 = json.loads(r1_text)\n",
    "data2 = json.loads(r2_text)\n",
    "data3 = json.loads(r3_text)\n",
    "\n",
    "data1 = data1['raw_data']\n",
    "data2 = data2['raw_data']\n",
    "data3 = data3['raw_data']\n",
    "\n",
    "data_serialized1 = json.dumps(data1)\n",
    "data_serialized2 = json.dumps(data2)\n",
    "data_serialized3 = json.dumps(data3)\n",
    "\n",
    "# data + i = data['raw_data']\n",
    "df1 = pd.DataFrame(data1) \n",
    "df2 = pd.DataFrame(data2) \n",
    "df3 = pd.DataFrame(data3) \n",
    "\n",
    "\n",
    "df = pd.concat([df1,df2, df3], axis = 1) \n",
    "df.tail()"
   ]
  },
  {
   "cell_type": "code",
   "execution_count": null,
   "metadata": {},
   "outputs": [],
   "source": [
    "print(df.index)\n",
    "# print(df[df['dateannounced'] == ''].index[0])\n",
    "\n",
    "# last = df[df['dateannounced'] == ''].index[0]\n",
    "# df = df.iloc[0:last,:]\n",
    "df.tail()"
   ]
  },
  {
   "cell_type": "code",
   "execution_count": null,
   "metadata": {},
   "outputs": [],
   "source": [
    "df['dateannounced'] = pd.to_datetime(df['dateannounced'], format = '%d/%m/%Y')\n",
    "# print(df['dateannounced'].dtype)\n",
    "df['datetimestr'] = df['dateannounced'].dt.strftime('%m-%d')\n",
    "df.head()"
   ]
  },
  {
   "cell_type": "code",
   "execution_count": null,
   "metadata": {},
   "outputs": [],
   "source": [
    "import matplotlib.pyplot as plt\n",
    "\n",
    "# df.columns\n",
    "dfg = df.groupby(df['dateannounced'])['entryid'].count()\n",
    "dfg"
   ]
  },
  {
   "cell_type": "code",
   "execution_count": null,
   "metadata": {},
   "outputs": [],
   "source": [
    "df.describe()"
   ]
  },
  {
   "cell_type": "code",
   "execution_count": null,
   "metadata": {},
   "outputs": [],
   "source": [
    "df.info()"
   ]
  },
  {
   "cell_type": "code",
   "execution_count": null,
   "metadata": {},
   "outputs": [],
   "source": [
    "df.isnull().sum()"
   ]
  },
  {
   "cell_type": "code",
   "execution_count": null,
   "metadata": {},
   "outputs": [],
   "source": [
    "import numpy as np\n",
    "np.unique(df['agebracket'])"
   ]
  },
  {
   "cell_type": "code",
   "execution_count": null,
   "metadata": {},
   "outputs": [],
   "source": [
    "import numpy as np\n",
    "df.replace(r'^\\s*$', np.nan, regex = True, inplace = True)"
   ]
  },
  {
   "cell_type": "code",
   "execution_count": null,
   "metadata": {},
   "outputs": [],
   "source": [
    "df['agebracket'] = pd.to_numeric(df['agebracket'], errors='coerce')\n",
    "df.dtypes"
   ]
  },
  {
   "cell_type": "code",
   "execution_count": null,
   "metadata": {},
   "outputs": [],
   "source": [
    "# plt.hist(df['agebracket'], bins = 7)\n",
    "# plt.show()"
   ]
  },
  {
   "cell_type": "code",
   "execution_count": null,
   "metadata": {},
   "outputs": [],
   "source": [
    "df_2 = pd.pivot_table(df.fillna('N/A'), values = ['patientnumber'], columns = ['currentstatus'], index = ['detectedstate'],aggfunc='count', margins=True)\n",
    "df_2.fillna(0).astype(int).sort_values(('patientnumber','All'), ascending = False)"
   ]
  },
  {
   "cell_type": "code",
   "execution_count": null,
   "metadata": {},
   "outputs": [],
   "source": [
    "df3 = df[df['detectedstate'] == 'Uttar Pradesh']\n",
    "df4 = pd.pivot_table(df3.fillna('N/A'), values = ['patientnumber'], columns = ['typeoftransmission'], index = ['detecteddistrict'],aggfunc='count', margins=True)\n",
    "df4.fillna(0).astype(int).sort_values(('patientnumber','All'), ascending = False)"
   ]
  },
  {
   "cell_type": "code",
   "execution_count": null,
   "metadata": {},
   "outputs": [],
   "source": [
    "# ndf = df[df['detectedstate'] == 'Uttar Pradesh']\n",
    "# ndf.to_excel(r'C:\\Users\\Madhur\\Desktop\\cov.xlsx')"
   ]
  },
  {
   "cell_type": "code",
   "execution_count": null,
   "metadata": {},
   "outputs": [],
   "source": [
    "import matplotlib.pyplot as plt\n",
    "\n",
    "l ={i for i in df.detectedstate}\n",
    "# l1 = ['Chandigarh','Himachal Pradesh','Uttar Pradesh','Punjab','Delhi','Rajasthan','Haryana','Uttarakhand']\n",
    "\n",
    "for i in l:\n",
    "    df2 = df[df['detectedstate'] == i]\n",
    "    df2 = df2.groupby('datetimestr').agg({'notes': 'count'})\n",
    "    df2 = df2.reset_index()\n",
    "    df2 = df2.sort_values('datetimestr', ascending = True)\n",
    "    s = df2['notes'].sum()\n",
    "    plt.bar(df2['datetimestr'], df2['notes'], label = f'Total: {s}')\n",
    "    #\n",
    "    plt.xticks(rotation = 90)\n",
    "    plt.yticks(rotation = 90)\n",
    "    plt.title(f'{i} Per-Day Cases')\n",
    "#     plt.legend(loc=\"upper left\")\n",
    "    plt.show()"
   ]
  },
  {
   "cell_type": "code",
   "execution_count": null,
   "metadata": {},
   "outputs": [],
   "source": [
    "df5 = df.query(\"detectedstate in ['Chandigarh','Uttar Pradesh','Delhi','Haryana']\")\n",
    "df5\n",
    "df5 = pd.pivot_table(df5.fillna('N/A'), values = ['patientnumber'], columns = ['typeoftransmission'], index = ['detectedstate'],aggfunc='count', margins=True)\n",
    "df5.fillna(0).astype(int).reset_index()\n",
    "# [('patientnumber','Local')]"
   ]
  },
  {
   "cell_type": "code",
   "execution_count": null,
   "metadata": {},
   "outputs": [],
   "source": [
    "df5 = df.query(\"detectedstate in ['Chandigarh','Uttar Pradesh','Delhi','Haryana']\")\n",
    "df5 = df5.groupby(['detectedstate','typeoftransmission'])['patientnumber'].count().unstack().reset_index()"
   ]
  },
  {
   "cell_type": "code",
   "execution_count": null,
   "metadata": {},
   "outputs": [],
   "source": [
    "df5"
   ]
  },
  {
   "cell_type": "code",
   "execution_count": null,
   "metadata": {},
   "outputs": [],
   "source": [
    "import matplotlib.pyplot as plt\n",
    "\n",
    "# plt.figure(figsize=(20,10))\n",
    "fig, (ax1,ax2,ax3) = plt.subplots(nrows = 3, ncols=1, sharex = True)\n",
    "\n",
    "ax1.bar(df5['detectedstate'], df5['Imported'])\n",
    "for i, j in enumerate(df5['Imported']):\n",
    "    ax1.text(i,j, s=j, fontdict=dict(fontsize=10), ha='center', verticalalignment='bottom', alpha=0.8)\n",
    "ax2.bar(df5['detectedstate'], df5['Local'])\n",
    "for i, j in enumerate(df5['Local']):\n",
    "    ax1.text(i,j, s=j, fontdict=dict(fontsize=10), ha='center', verticalalignment='bottom', alpha=0.8) \n",
    "ax3.bar(df5['detectedstate'], df5['TBD'])    \n",
    "for i, j in enumerate(df5['TBD']):\n",
    "    ax1.text(i,j, s=j, fontdict=dict(fontsize=10), ha='center', verticalalignment='top', alpha=0.8)\n",
    "\n",
    "\n",
    "# ax3.set_xticks(rotation = 90)\n",
    "# ax1.set_yticks(rotation = 90)\n",
    "# ax2.set_yticks(rotation = 90)\n",
    "# ax3.set_yticks(rotation = 90)\n",
    "\n",
    "\n",
    "\n",
    "\n",
    "    \n",
    "    \n",
    "# for i , j in enamurate(df5['Imported']\n",
    "# ax1.text(df5['detectedstate'], df5['Imported'], s=df5['Imported'], fontdict=dict(fontsize=10), ha='center', verticalalignment='bottom', alpha=0.8)\n",
    "    \n",
    "plt.show()\n"
   ]
  }
 ],
 "metadata": {
  "kernelspec": {
   "display_name": "Python 3",
   "language": "python",
   "name": "python3"
  },
  "language_info": {
   "codemirror_mode": {
    "name": "ipython",
    "version": 3
   },
   "file_extension": ".py",
   "mimetype": "text/x-python",
   "name": "python",
   "nbconvert_exporter": "python",
   "pygments_lexer": "ipython3",
   "version": "3.7.3"
  }
 },
 "nbformat": 4,
 "nbformat_minor": 2
}
